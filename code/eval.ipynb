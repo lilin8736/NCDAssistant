{
 "cells": [
  {
   "cell_type": "code",
   "execution_count": 1,
   "id": "cb5274f9-d1fd-4997-96d4-e76873a91a20",
   "metadata": {
    "tags": []
   },
   "outputs": [],
   "source": [
    "import os\n",
    "import io\n",
    "import torch\n",
    "from transformers import AutoModel, AutoTokenizer,T5Tokenizer, T5ForConditionalGeneration,AutoModelForCausalLM\n",
    "from fastapi import FastAPI, Depends, Response\n",
    "from fastapi.responses import StreamingResponse\n",
    "from res_models import ChatVO\n",
    "import httpx\n",
    "import json\n",
    "from tqdm import trange\n",
    "import ast\n",
    "from gensim.models import KeyedVectors,word2vec\n",
    "import itertools\n",
    "import jieba\n",
    "from sklearn.metrics.pairwise import cosine_similarity\n",
    "import xiangsi as xs\n",
    "import requests\n",
    "import pandas as pd\n",
    "import logging\n",
    "import asyncio\n",
    "import csv\n",
    "import nest_asyncio\n",
    "nest_asyncio.apply()\n",
    "from lightrag import LightRAG, QueryParam\n",
    "from lightrag.llm.ollama import ollama_model_complete, ollama_embed\n",
    "from lightrag.kg.shared_storage import initialize_pipeline_status\n",
    "from lightrag.utils import EmbeddingFunc\n",
    "from typing import Any, AsyncIterator\n",
    "from lightrag.operate import chunking_by_token_size\n",
    "from torch.nn.parallel import DataParallel\n",
    "import re"
   ]
  },
  {
   "cell_type": "code",
   "execution_count": null,
   "id": "bb34c8c4-5093-4a0a-968f-fbe3c5cb95c5",
   "metadata": {
    "tags": []
   },
   "outputs": [],
   "source": []
  },
  {
   "cell_type": "markdown",
   "id": "db2536aa-0000-4d32-8e80-2c122639975f",
   "metadata": {},
   "source": [
    "### 全局变量加载"
   ]
  },
  {
   "cell_type": "code",
   "execution_count": 2,
   "id": "0cd4aa3c-9f42-4dbb-b0fc-dba3145f6bf2",
   "metadata": {
    "tags": []
   },
   "outputs": [],
   "source": [
    "os.environ['CUDA_VISIBLE_DEVICES'] = '0'  # 默认使用0号显卡，避免Windows用户忘记修改该处\n",
    "device = torch.device(\"cuda\" if torch.cuda.is_available() else \"cpu\")\n",
    "knowledge=pd.read_csv('../../../data/total.csv') #疾病表格\n",
    "\n",
    "with open('../../data/med_sys.txt','r') as f:\n",
    "    data_line = f.readlines()\n",
    "data_line = [i[:-1] for i in data_line]\n",
    "with open('../../data/med.txt','r') as f:\n",
    "    data_med = f.readlines()\n",
    "data_med = [i[:-1] for i in data_med] #数据集加载\n",
    "WORKING_DIR = \"../../lightragpag/selfLightRAG/workapces\"\n",
    "logging.basicConfig(format=\"%(levelname)s:%(message)s\", level=logging.INFO)\n",
    "if not os.path.exists(WORKING_DIR):\n",
    "    os.mkdir(WORKING_DIR)"
   ]
  },
  {
   "cell_type": "code",
   "execution_count": null,
   "id": "4c681add-5c8c-4537-924a-22d5160b6a67",
   "metadata": {},
   "outputs": [],
   "source": []
  },
  {
   "cell_type": "markdown",
   "id": "8cfa9597-13fb-42d6-956a-a22d0fa0418f",
   "metadata": {},
   "source": [
    "### 函数和类"
   ]
  },
  {
   "cell_type": "markdown",
   "id": "01adbf44-d5ca-4ea7-9471-68923ea5eda0",
   "metadata": {},
   "source": [
    "##### 1 加载知识图谱"
   ]
  },
  {
   "cell_type": "code",
   "execution_count": 3,
   "id": "d9898874-e35d-4203-a8a9-338a74f99792",
   "metadata": {
    "tags": []
   },
   "outputs": [],
   "source": [
    "async def initialize_rag():\n",
    "    rag = LightRAG(\n",
    "            working_dir=WORKING_DIR,\n",
    "            chunking_func=chunking_by_token_size,\n",
    "            llm_model_func=ollama_model_complete,\n",
    "            llm_model_name=\"deepseek-r1:32b8192\",\n",
    "            llm_model_max_async=4,\n",
    "            llm_model_max_token_size=131072,\n",
    "            llm_model_kwargs={\"host\": \"http://localhost:11434\", \"options\": {\"num_ctx\": 8192}},\n",
    "            embedding_func=EmbeddingFunc(\n",
    "                embedding_dim=1024,\n",
    "                max_token_size=8192,\n",
    "                func=lambda texts: ollama_embed(\n",
    "                    texts, embed_model=\"bge-m3:latest8192\", host=\"http://localhost:11434\"\n",
    "                ),\n",
    "            ),\n",
    "        )\n",
    "    await rag.initialize_storages()\n",
    "    await initialize_pipeline_status()\n",
    "    return rag"
   ]
  },
  {
   "cell_type": "code",
   "execution_count": null,
   "id": "1277f104-3342-4e12-a7ad-6bdc7c9523e9",
   "metadata": {},
   "outputs": [],
   "source": []
  },
  {
   "cell_type": "markdown",
   "id": "c24d5c2a-8db7-40e2-9ea8-9b5282249b69",
   "metadata": {},
   "source": [
    "##### 2 扁鹊/小金刚模型加载"
   ]
  },
  {
   "cell_type": "code",
   "execution_count": 4,
   "id": "ec960e4f-18d9-42e5-a658-7136a204242b",
   "metadata": {
    "tags": []
   },
   "outputs": [],
   "source": [
    "#访问扁鹊2模型\n",
    "async def bianque2(content):\n",
    "    url = \"http://127.0.0.1:9290/bianque2\"  \n",
    "    data = {\"content\": f\"{content}\"}  \n",
    "    response = requests.post(url, json=data)\n",
    "    response = response.text\n",
    "    result_str = \"\"\n",
    "    for line in response.splitlines():  \n",
    "        if line.startswith('data:'):   \n",
    "            json_str = line.split('data: ')[1]\n",
    "            if \"is_end\" not in json_str:\n",
    "                continue\n",
    "            data = json.loads(json_str)  \n",
    "            result_str += data['result']\n",
    "    return result_str\n",
    "#访问小金刚模型\n",
    "async def chimpanzee(prompt,content):\n",
    "    device = \"cuda\"\n",
    "    messages = [\n",
    "        {\"role\": \"system\", \"content\": prompt},\n",
    "        {\"role\": \"user\", \"content\": content},\n",
    "    ]\n",
    "    # print(messages)\n",
    "    inputs = chimpanzee_tokenizer.apply_chat_template(messages, return_tensors=\"pt\", add_generation_prompt=True).to(device)\n",
    "    # print(messages)\n",
    "    model_outputs = chimpanzee_model.generate(\n",
    "        inputs,\n",
    "        max_new_tokens=1024,\n",
    "        temperature=0.7,\n",
    "        top_p=0.7,\n",
    "        pad_token_id=chimpanzee_tokenizer.eos_token_id  #设置 `pad_token_id` 为 `eos_token_id`\n",
    "    ).to(device)\n",
    "    # 解码生成的文本\n",
    "    output_token_ids = [\n",
    "        model_outputs[i][len(inputs[i]):] for i in range(len(inputs))\n",
    "    ]\n",
    "    responses = chimpanzee_tokenizer.batch_decode(output_token_ids, skip_special_tokens=True)[0]\n",
    "    responses = responses.replace(\"\\n\\n\",\"\")\n",
    "    return responses\n",
    "\n",
    "#访问微调小金刚模型\n",
    "async def chimpanzeestf(prompt,content):\n",
    "    device = \"cuda\"\n",
    "    messages = [\n",
    "        {\"role\": \"system\", \"content\": prompt},\n",
    "        {\"role\": \"user\", \"content\": content},\n",
    "    ]\n",
    "    inputs = chimpanzeestf_tokenizer.apply_chat_template(messages, return_tensors=\"pt\", add_generation_prompt=True).to(device)\n",
    "    model_outputs = chimpanzeestf_model.generate(\n",
    "        inputs,\n",
    "        max_new_tokens=1024,\n",
    "        temperature=0.7,\n",
    "        top_p=0.7,\n",
    "        pad_token_id=chimpanzee_tokenizer.eos_token_id  #设置 `pad_token_id` 为 `eos_token_id`\n",
    "    ).to(device)\n",
    "    # 解码生成的文本\n",
    "    output_token_ids = [\n",
    "        model_outputs[i][len(inputs[i]):] for i in range(len(inputs))\n",
    "    ]\n",
    "    responses = chimpanzeestf_tokenizer.batch_decode(output_token_ids, skip_special_tokens=True)[0]\n",
    "    responses = responses.replace(\"\\n\\n\",\"\")\n",
    "    return responses"
   ]
  },
  {
   "cell_type": "code",
   "execution_count": null,
   "id": "372956e2-528f-43e4-9d3f-79935622cd9a",
   "metadata": {
    "tags": []
   },
   "outputs": [],
   "source": []
  },
  {
   "cell_type": "markdown",
   "id": "44058f74-c260-4e5b-9fc3-275b85399915",
   "metadata": {},
   "source": [
    "### 加载模型"
   ]
  },
  {
   "cell_type": "code",
   "execution_count": 5,
   "id": "9e71e52e-4203-4946-8f9e-87cd345fe65e",
   "metadata": {
    "tags": []
   },
   "outputs": [
    {
     "data": {
      "application/vnd.jupyter.widget-view+json": {
       "model_id": "57f850215ffb42a7961653d82a4ee00b",
       "version_major": 2,
       "version_minor": 0
      },
      "text/plain": [
       "Loading checkpoint shards:   0%|          | 0/2 [00:00<?, ?it/s]"
      ]
     },
     "metadata": {},
     "output_type": "display_data"
    },
    {
     "name": "stderr",
     "output_type": "stream",
     "text": [
      "INFO: Process 48681 Shared-Data created for Single Process\n",
      "INFO:Load (11748, 1024) data\n",
      "INFO:Init {'embedding_dim': 1024, 'metric': 'cosine', 'storage_file': '../../lightragpag/selfLightRAG/workapces/vdb_entities.json'} 11748 data\n",
      "INFO:Load (33115, 1024) data\n",
      "INFO:Init {'embedding_dim': 1024, 'metric': 'cosine', 'storage_file': '../../lightragpag/selfLightRAG/workapces/vdb_relationships.json'} 33115 data\n",
      "INFO:Load (2281, 1024) data\n",
      "INFO:Init {'embedding_dim': 1024, 'metric': 'cosine', 'storage_file': '../../lightragpag/selfLightRAG/workapces/vdb_chunks.json'} 2281 data\n",
      "INFO: Process 48681 initialized updated flags for namespace: [full_docs]\n",
      "INFO: Process 48681 ready to initialize storage namespace: [full_docs]\n",
      "INFO: Process 48681 initialized updated flags for namespace: [text_chunks]\n",
      "INFO: Process 48681 ready to initialize storage namespace: [text_chunks]\n",
      "INFO: Process 48681 initialized updated flags for namespace: [entities]\n",
      "INFO: Process 48681 initialized updated flags for namespace: [relationships]\n",
      "INFO: Process 48681 initialized updated flags for namespace: [chunks]\n",
      "INFO: Process 48681 initialized updated flags for namespace: [chunk_entity_relation]\n",
      "INFO: Process 48681 initialized updated flags for namespace: [llm_response_cache]\n",
      "INFO: Process 48681 ready to initialize storage namespace: [llm_response_cache]\n",
      "INFO: Process 48681 initialized updated flags for namespace: [doc_status]\n",
      "INFO: Process 48681 ready to initialize storage namespace: [doc_status]\n",
      "INFO: Process 48681 storage namespace already initialized: [full_docs]\n",
      "INFO: Process 48681 storage namespace already initialized: [text_chunks]\n",
      "INFO: Process 48681 storage namespace already initialized: [llm_response_cache]\n",
      "INFO: Process 48681 storage namespace already initialized: [doc_status]\n",
      "INFO: Process 48681 Pipeline namespace initialized\n"
     ]
    }
   ],
   "source": [
    "chimpanzeestf_path = \"../../../../1_testmodel/stf/output1010/MiniCPM3_4B_5epoch\"\n",
    "bianque_v2_model_name_or_path = \"../../../1_testmodel/ori/BianQue-2\"\n",
    "chimpanzee_path = \"../../../../1_testmodel/ori/MiniCPM3-4B\"\n",
    "chimpanzeestf_tokenizer = AutoTokenizer.from_pretrained(chimpanzeestf_path,trust_remote_code=True)\n",
    "chimpanzeestf_model = AutoModelForCausalLM.from_pretrained(chimpanzeestf_path, torch_dtype=torch.bfloat16, device_map='cuda', trust_remote_code=True)\n",
    "chimpanzee_tokenizer = AutoTokenizer.from_pretrained(chimpanzee_path,trust_remote_code=True)\n",
    "chimpanzee_model = AutoModelForCausalLM.from_pretrained(chimpanzee_path, torch_dtype=torch.bfloat16, device_map='cuda', trust_remote_code=True)\n",
    "rag = asyncio.run(initialize_rag()) #知识图谱检索内容\n",
    "# if torch.cuda.device_count() > 1:\n",
    "#     chimpanzeestf_model = DataParallel(chimpanzeestf_model)\n",
    "#     chimpanzee_model = DataParallel(chimpanzee_model)\n",
    "# chimpanzeestf_model.to('cuda')\n",
    "# chimpanzee_model.to('cuda')"
   ]
  },
  {
   "cell_type": "code",
   "execution_count": null,
   "id": "cdb5679c-e870-4c8a-ad0e-d51dd9deffdd",
   "metadata": {},
   "outputs": [],
   "source": []
  },
  {
   "cell_type": "markdown",
   "id": "a02ef1d8-79d6-47e3-8198-cd745e78bc8b",
   "metadata": {},
   "source": [
    "### 访问流程"
   ]
  },
  {
   "cell_type": "markdown",
   "id": "bf0289f4-7d59-41f0-9b4a-da43af70c6a6",
   "metadata": {},
   "source": [
    "##### 1 根据最终疾病获得补充信息"
   ]
  },
  {
   "cell_type": "code",
   "execution_count": 6,
   "id": "a44ceaa0-e54d-4403-9dcc-5f01d813bdb5",
   "metadata": {
    "tags": []
   },
   "outputs": [],
   "source": [
    "async def get_kg_all(diseasessymptoms):\n",
    "    triple =[]\n",
    "    for i in range(len(knowledge)):\n",
    "        name =knowledge['疾病名称'][i]\n",
    "        synopsis =knowledge['简介'][i]\n",
    "        symptoms = knowledge['症状'][i]\n",
    "        combine =knowledge['并发症'][i]\n",
    "        jzks =knowledge['就诊科室'][i]\n",
    "        zlfs =knowledge['治疗方式'][i]\n",
    "        zlzq =knowledge['治疗周期'][i]\n",
    "        zyl =knowledge['治愈率'][i]\n",
    "        cyyp =knowledge['常用药品'][i]\n",
    "        zlfy =knowledge['治疗费用'][i]\n",
    "        cause =knowledge['病因'][i]\n",
    "        yffs =knowledge['预防方式'][i]\n",
    "        zlgs =knowledge['治疗概述'][i]\n",
    "        ycsw =knowledge['宜吃食物'][i]\n",
    "        jcsw =knowledge['忌吃食物'][i]\n",
    "        tjsp =knowledge['推荐食谱'][i]\n",
    "        tjyp =knowledge['推荐药品'][i]\n",
    "        ybjb =knowledge['医保疾病'][i]\n",
    "        hbbl =knowledge['患病比例'][i]\n",
    "        ygrq =knowledge['易感人群'][i]\n",
    "        crfs =knowledge['传染方式'][i]\n",
    "        triple.append((name,synopsis,symptoms,combine,jzks,zlfs,zlzq,zyl,cyyp,zlfy,cause,yffs,zlgs,ycsw, jcsw,tjsp,tjyp,ybjb,hbbl,ygrq,crfs))\n",
    "    final = \"\"\n",
    "    for name,synopsis,symptoms,combine,jzks,zlfs,zlzq,zyl,cyyp,zlfy,cause,yffs,zlgs,ycsw,jcsw,tjsp,tjyp,ybjb,hbbl,ygrq,crfs in triple:\n",
    "        if isinstance(name,str) and name[:-4] in diseasessymptoms:\n",
    "            synopsis = synopsis.replace('\\n','')\n",
    "            cause = cause.replace('\\n','')\n",
    "            final = final + f'疾病名称:{name};简介:{synopsis};症状:{symptoms};并发症:{combine};就诊科室:{jzks};治疗方式:{zlfs};治疗周期:{zlzq};治愈率:{zyl};常用药品:{cyyp};治疗费用:{zlfy};病因:{cause};预防方式:{yffs};治疗概述:{zlgs};宜吃食物:{ycsw};忌吃食物:{jcsw};推荐食谱:{tjsp};推荐药品:{tjyp};医保疾病:{ybjb};患病比例:{hbbl};易感人群:{ygrq};传染方式:{crfs};'\n",
    "    return final"
   ]
  },
  {
   "cell_type": "code",
   "execution_count": null,
   "id": "f5927a5c-b2b4-4fbb-926d-45a6cdd7f63d",
   "metadata": {},
   "outputs": [],
   "source": []
  },
  {
   "cell_type": "markdown",
   "id": "7a714a49-0306-4439-8c01-bf6ec7775208",
   "metadata": {},
   "source": [
    "##### 2 可能症状可能性疾病-以及没有疾病的状况"
   ]
  },
  {
   "cell_type": "code",
   "execution_count": 7,
   "id": "c7cea540-f851-450a-891c-38c40d0f6e98",
   "metadata": {
    "tags": []
   },
   "outputs": [],
   "source": [
    "async def kg_sym(history):\n",
    "    example = '{\"症状\":[\"恶心\",\"头晕\"],\"疾病\":[\"内耳问题\",\"颈椎病\",\"贫血\"]}'\n",
    "    entity_prompt = \"请从患者和医生的对话中提取关键信息。请识别患者描述的所有症状，以及经过医生诊断可能患有的疾病。将症状和疾病分别列出，确保你的答案是准确无误的,且一定要按照输出示例以 JSON 格式进行输出，不需要添加格外内容。\"\n",
    "    entity_input = f\"\"\"下列为患者和医生的对话历史:{history}\\n\n",
    "                    输出示例：{example}\"\"\"\n",
    "    entity_responses = await chimpanzee(entity_prompt,entity_input) #小金刚提取症状和可能性疾病\n",
    "    # print(entity_responses)\n",
    "    entity_responses = entity_responses.replace('“', '\"').replace('”', '\"').replace('，', ',').replace(']]', ']').replace('[[', '[').replace(\"'\", '\"').replace(\"‘\", '\"').replace(\"’\", '\"').replace(\"json\", '').replace(\"```\", '').replace(\"\\\\\", '').replace('心脏\"漏跳\"', '心脏漏跳')\n",
    "    # print(entity_responses)\n",
    "    # entity_responses = re.sub(\n",
    "    #     r'(\"[^\"]+\")(\"[^\"]+\")',  # 匹配两个紧邻的引号部分（如 \"心脏\"漏跳\"）\n",
    "    #     lambda m: f'{m.group(1)}\\\\\"\"{m.group(2)}',  # 在中间插入转义符\n",
    "    #     entity_responses\n",
    "    # )\n",
    "    # print(entity_responses)\n",
    "    entity_responses = json.loads(entity_responses)\n",
    "    symptoms = entity_responses[\"症状\"]\n",
    "    candidate_diseases = entity_responses[\"疾病\"]\n",
    "    return symptoms,candidate_diseases"
   ]
  },
  {
   "cell_type": "code",
   "execution_count": null,
   "id": "4e53e614-0678-41ac-ae5b-845593722bc3",
   "metadata": {},
   "outputs": [],
   "source": []
  },
  {
   "cell_type": "markdown",
   "id": "c1be35d6-6a7d-4779-9fb6-01c8780c06f8",
   "metadata": {},
   "source": [
    "##### 3 评估是否满足"
   ]
  },
  {
   "cell_type": "code",
   "execution_count": 8,
   "id": "bedc952d-7600-4558-8c59-7b323b60e712",
   "metadata": {
    "tags": []
   },
   "outputs": [],
   "source": [
    "async def evalu(symptoms, diseases, extract_context):\n",
    "    symptoms_str = '，'.join(symptoms)\n",
    "    example_des = '{“analysis”:..., “distribution”: {“动物皮肤病”: 0.27, “红斑”: 0.3, “皮炎”: 0.85}}'\n",
    "    des_prompt = \"你是一名专业医生，任务是根据提供的症状信息对病人进行诊断。您将得到：可能的疾病科室、一份候选疾病清单和一些疾病的基础知识，您的任务是为患者提供详细的诊断分析和候选疾病的可信度分布。您需要首先分析患者的病情，并思考患者可能患有哪些候选疾病。如输出示例，以 JSON 格式输出分析和候选疾病的诊断置信度分布，请一定要按照输出示例格式进行输出。需要输出每一种候选疾病的诊断置信度分布，每种疾病的诊断置信度均在0-1之间，不需要总计为1，例如A疾病为0.8，B疾病可以为0.5。绝不可能患有的疾病置信度可以为0。\"\n",
    "    des_input = f\"\"\"输出示例：{example_des}\\n\n",
    "                    患者症状： {symptoms}\\n\n",
    "                    候选疾病： {diseases}\\n\n",
    "                    疾病基础信息：{extract_context}\"\"\"\n",
    "    des_output = await chimpanzee(des_prompt,des_input)#小金刚进行分析和置信度获取\n",
    "    try:\n",
    "        des_responses = json.loads(des_output)\n",
    "        analysis = des_responses[\"analysis\"] #分析\n",
    "        distribution = des_responses[\"distribution\"] #打分\n",
    "    except json.JSONDecodeError:\n",
    "    # 如果 des_output 不是有效的 JSON 字符串，则处理异常\n",
    "    # 这里可以返回一个空字典或者打印错误信息\n",
    "        # print(des_output)\n",
    "        des_responses = {}\n",
    "        analysis = \"\" #分析\n",
    "        distribution = {} #打分\n",
    "    sorted_items = sorted(distribution.items(), key=lambda item: item[1], reverse=True)\n",
    "    sim_de = dict(sorted_items)\n",
    "    if list(sim_de.values())[0]>=0.5:\n",
    "        ifxunhuan = False\n",
    "    else:\n",
    "        ifxunhuan = True\n",
    "    return ifxunhuan,distribution, analysis"
   ]
  },
  {
   "cell_type": "code",
   "execution_count": null,
   "id": "58a1956d-8f39-4f4a-80a7-bf1d637c2fcb",
   "metadata": {},
   "outputs": [],
   "source": []
  },
  {
   "cell_type": "markdown",
   "id": "45745e8e-7c33-41f4-8a64-b8ee247d2ac0",
   "metadata": {},
   "source": [
    "##### 4 获得最后的结果"
   ]
  },
  {
   "cell_type": "code",
   "execution_count": 9,
   "id": "9b2bb630-bf70-4aab-998a-dc509d212ee4",
   "metadata": {
    "tags": []
   },
   "outputs": [],
   "source": [
    "async def get_end(distribution, query, hl_keywords ,ll_keywords):\n",
    "    sorted_items = sorted(distribution.items(), key=lambda item: item[1], reverse=True)\n",
    "    sim_de = dict(sorted_items)\n",
    "    dise = list(sim_de.keys()) #疾病列表\n",
    "    if len(dise)>5:\n",
    "        dise = dise[:5] #获得前5个可能的疾病\n",
    "        sim_de = dict(sorted(sim_de.items(), key=lambda item: item[0])[:5])\n",
    "    \n",
    "    history = \"\\n\".join(hist.split(\"\\n\")[2:])\n",
    "    conversation_history=[{\"role\": \"user\", \"content\": history}]\n",
    "    results = rag.query(1, query, hl_keywords, dise, param=QueryParam(mode=\"ll_medical\",conversation_history=conversation_history), ll_keywords=ll_keywords)    \n",
    "    return results "
   ]
  },
  {
   "cell_type": "code",
   "execution_count": null,
   "id": "41fb198b-52d6-42ac-b5c9-e52c33c7cd8b",
   "metadata": {},
   "outputs": [],
   "source": []
  },
  {
   "cell_type": "markdown",
   "id": "8b1d2499-f053-4b83-aedf-85f1cdaf770a",
   "metadata": {},
   "source": [
    "##### 5 获得疾病和症状列表"
   ]
  },
  {
   "cell_type": "code",
   "execution_count": 10,
   "id": "c882a7bd-8254-454f-9add-b9398e47eea9",
   "metadata": {
    "tags": []
   },
   "outputs": [],
   "source": [
    "async def get_ills_sym(hist,result_hist):\n",
    "    # print(hist)\n",
    "    symptoms,candidate_diseases = await kg_sym(result_hist) #症状1和疾病1列表\n",
    "    history = \"\\n\".join(hist.split(\"\\n\")[2:])\n",
    "    conversation_history=[{\"role\": \"user\", \"content\": history}]\n",
    "    # print(conversation_history)\n",
    "    response = rag.query(0, hist, data_line, data_med, param=QueryParam(mode=\"ll_medical\",conversation_history=conversation_history))\n",
    "    # print(response)\n",
    "    response = response.split('11111')\n",
    "    ll_keywords = response[0].split(\", \") #症状2列表\n",
    "    hl_keywords = response[1].split(\", \")\n",
    "    ills = response[2].split(\", \") #疾病2列表\n",
    "    diseases = ills + candidate_diseases #症状列表\n",
    "    symptoms = ll_keywords + symptoms #疾病列表\n",
    "    diseases = list(set(diseases))\n",
    "    symptoms = list(set(symptoms))\n",
    "    # print(diseases)\n",
    "    # print(symptoms)\n",
    "    return symptoms,diseases,hl_keywords"
   ]
  },
  {
   "cell_type": "code",
   "execution_count": null,
   "id": "336b3006-2242-4932-acc2-d84fc2072290",
   "metadata": {},
   "outputs": [],
   "source": []
  },
  {
   "cell_type": "markdown",
   "id": "75c5de01-8f1c-42a4-ac26-95f5659d8cdc",
   "metadata": {},
   "source": [
    "##### 6 获得疾病对应症状的补充信息"
   ]
  },
  {
   "cell_type": "code",
   "execution_count": 11,
   "id": "391829d4-6ec9-4c8c-98a7-ba535a782e10",
   "metadata": {
    "tags": []
   },
   "outputs": [],
   "source": [
    "async def get_illsym(diseases):\n",
    "    results = []\n",
    "    data_line_n = [element.split(\" \")[0] for element in data_line]\n",
    "    for oo in diseases:\n",
    "        result = [data_line[i] for i,element in enumerate(data_line_n) if oo==element]\n",
    "        results = results + result\n",
    "    else:\n",
    "        results.append(oo + \"症状:暂时没有症状信息。\")\n",
    "    result = []\n",
    "    for oo in results:\n",
    "        if oo not in result:\n",
    "            result.append(oo)\n",
    "    \n",
    "    extract_context = \"\\n\".join(result)\n",
    "    return extract_context"
   ]
  },
  {
   "cell_type": "code",
   "execution_count": null,
   "id": "4648e35f-a5c0-45b2-a186-a3347c2965e7",
   "metadata": {},
   "outputs": [],
   "source": []
  },
  {
   "cell_type": "markdown",
   "id": "b62d51a1-c7c5-42c4-93b4-dd34f6d110f0",
   "metadata": {},
   "source": [
    "##### 7 评估"
   ]
  },
  {
   "cell_type": "code",
   "execution_count": 14,
   "id": "e237fea7-b13a-4c43-a8c4-36895f808fe6",
   "metadata": {
    "tags": []
   },
   "outputs": [
    {
     "ename": "FileNotFoundError",
     "evalue": "[Errno 2] No such file or directory: '../data/CoD_data_kg516.json'",
     "output_type": "error",
     "traceback": [
      "\u001b[0;31m---------------------------------------------------------------------------\u001b[0m",
      "\u001b[0;31mFileNotFoundError\u001b[0m                         Traceback (most recent call last)",
      "Cell \u001b[0;32mIn[14], line 1\u001b[0m\n\u001b[0;32m----> 1\u001b[0m \u001b[38;5;28;01mwith\u001b[39;00m \u001b[38;5;28;43mopen\u001b[39;49m\u001b[43m(\u001b[49m\u001b[38;5;124;43m'\u001b[39;49m\u001b[38;5;124;43m../data/CoD_data_kg516.json\u001b[39;49m\u001b[38;5;124;43m'\u001b[39;49m\u001b[43m,\u001b[49m\u001b[38;5;124;43m'\u001b[39;49m\u001b[38;5;124;43mr\u001b[39;49m\u001b[38;5;124;43m'\u001b[39;49m\u001b[43m)\u001b[49m \u001b[38;5;28;01mas\u001b[39;00m f:\n\u001b[1;32m      2\u001b[0m     data_eval \u001b[38;5;241m=\u001b[39m f\u001b[38;5;241m.\u001b[39mreadlines()\n\u001b[1;32m      3\u001b[0m     data_eval \u001b[38;5;241m=\u001b[39m [json\u001b[38;5;241m.\u001b[39mloads(i) \u001b[38;5;28;01mfor\u001b[39;00m i \u001b[38;5;129;01min\u001b[39;00m data_eval]\n",
      "File \u001b[0;32m~/miniconda3/envs/kg/lib/python3.10/site-packages/IPython/core/interactiveshell.py:324\u001b[0m, in \u001b[0;36m_modified_open\u001b[0;34m(file, *args, **kwargs)\u001b[0m\n\u001b[1;32m    317\u001b[0m \u001b[38;5;28;01mif\u001b[39;00m file \u001b[38;5;129;01min\u001b[39;00m {\u001b[38;5;241m0\u001b[39m, \u001b[38;5;241m1\u001b[39m, \u001b[38;5;241m2\u001b[39m}:\n\u001b[1;32m    318\u001b[0m     \u001b[38;5;28;01mraise\u001b[39;00m \u001b[38;5;167;01mValueError\u001b[39;00m(\n\u001b[1;32m    319\u001b[0m         \u001b[38;5;124mf\u001b[39m\u001b[38;5;124m\"\u001b[39m\u001b[38;5;124mIPython won\u001b[39m\u001b[38;5;124m'\u001b[39m\u001b[38;5;124mt let you open fd=\u001b[39m\u001b[38;5;132;01m{\u001b[39;00mfile\u001b[38;5;132;01m}\u001b[39;00m\u001b[38;5;124m by default \u001b[39m\u001b[38;5;124m\"\u001b[39m\n\u001b[1;32m    320\u001b[0m         \u001b[38;5;124m\"\u001b[39m\u001b[38;5;124mas it is likely to crash IPython. If you know what you are doing, \u001b[39m\u001b[38;5;124m\"\u001b[39m\n\u001b[1;32m    321\u001b[0m         \u001b[38;5;124m\"\u001b[39m\u001b[38;5;124myou can use builtins\u001b[39m\u001b[38;5;124m'\u001b[39m\u001b[38;5;124m open.\u001b[39m\u001b[38;5;124m\"\u001b[39m\n\u001b[1;32m    322\u001b[0m     )\n\u001b[0;32m--> 324\u001b[0m \u001b[38;5;28;01mreturn\u001b[39;00m \u001b[43mio_open\u001b[49m\u001b[43m(\u001b[49m\u001b[43mfile\u001b[49m\u001b[43m,\u001b[49m\u001b[43m \u001b[49m\u001b[38;5;241;43m*\u001b[39;49m\u001b[43margs\u001b[49m\u001b[43m,\u001b[49m\u001b[43m \u001b[49m\u001b[38;5;241;43m*\u001b[39;49m\u001b[38;5;241;43m*\u001b[39;49m\u001b[43mkwargs\u001b[49m\u001b[43m)\u001b[49m\n",
      "\u001b[0;31mFileNotFoundError\u001b[0m: [Errno 2] No such file or directory: '../data/CoD_data_kg516.json'"
     ]
    }
   ],
   "source": [
    "with open('../data/CoD_data_kg516.json','r') as f:\n",
    "    data_eval = f.readlines()\n",
    "    data_eval = [json.loads(i) for i in data_eval]"
   ]
  },
  {
   "cell_type": "code",
   "execution_count": null,
   "id": "48ab9b6a-1243-4387-b69e-04bf0fbc311c",
   "metadata": {
    "tags": []
   },
   "outputs": [],
   "source": [
    "data_eval[0]"
   ]
  },
  {
   "cell_type": "code",
   "execution_count": null,
   "id": "56a58e41-c09a-4007-b347-0974b2f3a919",
   "metadata": {
    "tags": []
   },
   "outputs": [],
   "source": [
    "for i_index, disease_data in enumerate(data_eval):\n",
    "    if i_index>147:\n",
    "        data_recoder = []\n",
    "        data_recoder.append(disease_data['dies']) #目标疾病\n",
    "        data_recoder.append(disease_data['competion']) #input输入\n",
    "        input_text = \"请依据医生患者的对话信息尽量给出一些大致的结果,建议的检查或者健康的生活及饮食习惯。\\n对话信息:\" + disease_data['competion'] + \"医生：\"\n",
    "        response = await bianque2(content=input_text) #bianque2 得出结论\n",
    "        response = response.replace('医生：','').replace('患者：','')\n",
    "        data_recoder.append(response)\n",
    "        hist = \"\\n你是一名三甲医院的医生，请根据你和用户之间的对话并结合提供数据库，向用户提供诊断意见，诊断意见包括：可能性的疾病、疾病概述以及宜吃和忌吃食物等生活习惯。\\n医患对话对话如下：\\n\" + disease_data['competion'] #医患对话历史（不包含医生的结论）\n",
    "        result_hist = hist+ \"医生：\" + response\n",
    "        # print(response)\n",
    "        symptoms,diseases,hl_keywords = await get_ills_sym(hist,result_hist) #症状列表,疾病列表,查询关键词\n",
    "        data_recoder.append(diseases)\n",
    "        data_recoder.append(symptoms)\n",
    "        extract_context = await get_illsym(diseases) #根据疾病补充症状信息\n",
    "        data_recoder.append(extract_context)\n",
    "        ifxunhuan,distribution,analysis = await evalu(symptoms, diseases, extract_context) #判断置信度是否大于0.5，False为是\n",
    "        data_recoder.append(ifxunhuan)\n",
    "        data_recoder.append(distribution)\n",
    "        data_recoder.append(analysis)\n",
    "        if ifxunhuan:\n",
    "            hist_ask = disease_data['competion'] + \"医生：\"\n",
    "            re_or_in = f\"\"\"假设你是一名经验丰富的智能家庭助手，你的目标是根据患者和医生的对话信息，通过一系列有目的的提问来收集必要的信息，包括但不限于了解患者的症状、病史、生活方式和其他相关因素。不需要给出任何的意见，只需要进行提问，且每次仅可以提出1-2个问题，不可以提问重复的问题。下面为患者和医生的对话信息，请继续发起提问。\\n\\n对话信息:\"\"\"\n",
    "            response = await chimpanzeestf(re_or_in,hist_ask) #继续提问\n",
    "            data_recoder.append(response)\n",
    "        else:\n",
    "            response = await get_end(distribution, hist, hl_keywords, symptoms)\n",
    "            response = response.replace('医生：','').replace('患者：','')\n",
    "            data_recoder.append(response)\n",
    "\n",
    "        # 追加写入文件\n",
    "        with open('eval_answer_cod_kg.csv', 'a', newline='', encoding='utf-8') as f:\n",
    "            writer = csv.writer(f)\n",
    "            writer.writerow(data_recoder)\n",
    "        print(i_index)"
   ]
  },
  {
   "cell_type": "code",
   "execution_count": null,
   "id": "6e90b929-f656-4991-88fa-2fbb93761fca",
   "metadata": {},
   "outputs": [],
   "source": []
  },
  {
   "cell_type": "code",
   "execution_count": null,
   "id": "6990addf-a302-426d-9e8c-2d02e35236f9",
   "metadata": {},
   "outputs": [],
   "source": []
  },
  {
   "cell_type": "code",
   "execution_count": null,
   "id": "d43e5acc-6e56-4e05-a4f1-0f3442116c21",
   "metadata": {},
   "outputs": [],
   "source": []
  },
  {
   "cell_type": "code",
   "execution_count": null,
   "id": "51735acf-a57b-4f24-b498-bd69ac1d842c",
   "metadata": {},
   "outputs": [],
   "source": []
  },
  {
   "cell_type": "code",
   "execution_count": null,
   "id": "b85e817d-036e-433e-ad15-af2b839f64d8",
   "metadata": {},
   "outputs": [],
   "source": []
  },
  {
   "cell_type": "code",
   "execution_count": null,
   "id": "37e94c81-66cb-467a-9472-e13b13e69136",
   "metadata": {},
   "outputs": [],
   "source": []
  },
  {
   "cell_type": "code",
   "execution_count": null,
   "id": "2f4c7be1-e8e2-4a9b-997f-00facba3137d",
   "metadata": {},
   "outputs": [],
   "source": []
  },
  {
   "cell_type": "code",
   "execution_count": null,
   "id": "3bd94791-9cec-424d-95e7-d31fee0d51f2",
   "metadata": {},
   "outputs": [],
   "source": []
  },
  {
   "cell_type": "code",
   "execution_count": null,
   "id": "4b993944-cab2-4915-a3ed-3ea9036d5c0d",
   "metadata": {},
   "outputs": [],
   "source": []
  },
  {
   "cell_type": "code",
   "execution_count": null,
   "id": "7ec5fb77-169e-459e-81d7-3ee064c998ab",
   "metadata": {},
   "outputs": [],
   "source": []
  },
  {
   "cell_type": "code",
   "execution_count": null,
   "id": "ad1e3a63-4afa-4dde-9770-0bc38c6d09a8",
   "metadata": {},
   "outputs": [],
   "source": []
  },
  {
   "cell_type": "code",
   "execution_count": null,
   "id": "7db91ad0-b1a2-4f81-9e33-655705b2f733",
   "metadata": {},
   "outputs": [],
   "source": []
  },
  {
   "cell_type": "code",
   "execution_count": null,
   "id": "1e2f02ab-bfda-4c10-bd61-82215bebb5b2",
   "metadata": {},
   "outputs": [],
   "source": []
  },
  {
   "cell_type": "code",
   "execution_count": null,
   "id": "655588f5-c217-4046-89dd-6eb09aa18563",
   "metadata": {},
   "outputs": [],
   "source": []
  },
  {
   "cell_type": "code",
   "execution_count": null,
   "id": "0c0d56cc-d406-4555-8a48-628de07bfad3",
   "metadata": {},
   "outputs": [],
   "source": []
  },
  {
   "cell_type": "code",
   "execution_count": null,
   "id": "e071e696-65bc-4f8c-a15d-1c4f52b2728d",
   "metadata": {},
   "outputs": [],
   "source": []
  },
  {
   "cell_type": "code",
   "execution_count": null,
   "id": "f2c95f57-f69c-42e4-ac0e-c9b4bc83f924",
   "metadata": {},
   "outputs": [],
   "source": []
  },
  {
   "cell_type": "code",
   "execution_count": null,
   "id": "9a77d5a2-75a3-43c2-b0e9-5df336534a45",
   "metadata": {},
   "outputs": [],
   "source": []
  },
  {
   "cell_type": "code",
   "execution_count": null,
   "id": "b07aef92-aae8-4b17-9eb6-863b89d80be2",
   "metadata": {},
   "outputs": [],
   "source": []
  },
  {
   "cell_type": "code",
   "execution_count": 15,
   "id": "23dd71d4-0c96-4015-838f-85c455fb3ff1",
   "metadata": {
    "tags": []
   },
   "outputs": [],
   "source": [
    "data_eval = []\n",
    "with open('../../data/eval_answer_cod_kg_extend_1.json','r') as f:\n",
    "    data_eval_l = f.readlines()\n",
    "for i in data_eval_l:\n",
    "    # print(i)\n",
    "    a = json.loads(i)\n",
    "    data_eval.append(a)"
   ]
  },
  {
   "cell_type": "code",
   "execution_count": 20,
   "id": "3df8e1a3-1ec6-4712-a942-d9286b10f21b",
   "metadata": {
    "scrolled": true,
    "tags": []
   },
   "outputs": [
    {
     "name": "stdout",
     "output_type": "stream",
     "text": [
      "20\n",
      "21\n",
      "22\n",
      "23\n",
      "24\n",
      "25\n",
      "26\n",
      "27\n",
      "28\n",
      "29\n",
      "30\n",
      "31\n",
      "32\n",
      "33\n",
      "34\n",
      "35\n",
      "36\n",
      "37\n",
      "38\n",
      "39\n",
      "40\n",
      "41\n",
      "42\n"
     ]
    }
   ],
   "source": [
    "for i_index, disease_data in enumerate(data_eval):\n",
    "    if i_index>19:\n",
    "        data_recoder = []\n",
    "        data_recoder.append(disease_data['dies']) #目标疾病\n",
    "        data_recoder.append(disease_data['competion']) #input输入\n",
    "        input_text = \"请依据医生患者的对话信息尽量给出一些大致的结果,建议的检查或者健康的生活及饮食习惯。\\n对话信息:\" + disease_data['competion'] + \"医生：\"\n",
    "        response = await bianque2(content=input_text) #bianque2 得出结论\n",
    "        response = response.replace('医生：','').replace('患者：','')\n",
    "        # data_recoder.append(response)\n",
    "        hist = \"\\n你是一名三甲医院的医生，请根据你和用户之间的对话并结合提供数据库，向用户提供诊断意见，诊断意见包括：可能性的疾病、疾病概述以及宜吃和忌吃食物等生活习惯。\\n医患对话对话如下：\\n\" + disease_data['competion'] #医患对话历史（不包含医生的结论）\n",
    "        result_hist = hist+ \"医生：\" + response\n",
    "        # print(response)\n",
    "        symptoms,diseases,hl_keywords = await get_ills_sym(hist,result_hist) #症状列表,疾病列表,查询关键词\n",
    "        # data_recoder.append(diseases)\n",
    "        # data_recoder.append(symptoms)\n",
    "        extract_context = await get_illsym(diseases) #根据疾病补充症状信息\n",
    "        # data_recoder.append(extract_context)\n",
    "        ifxunhuan,distribution,analysis = await evalu(symptoms, diseases, extract_context) #判断置信度是否大于0.5，False为是\n",
    "        # data_recoder.append(ifxunhuan)\n",
    "        data_recoder.append(distribution)\n",
    "        # data_recoder.append(analysis)\n",
    "        if ifxunhuan:\n",
    "            hist_ask = disease_data['competion'] + \"医生：\"\n",
    "            re_or_in = f\"\"\"假设你是一名经验丰富的智能家庭助手，你的目标是根据患者和医生的对话信息，通过一系列有目的的提问来收集必要的信息，包括但不限于了解患者的症状、病史、生活方式和其他相关因素。不需要给出任何的意见，只需要进行提问，且每次仅可以提出1-2个问题，不可以提问重复的问题。下面为患者和医生的对话信息，请继续发起提问。\\n\\n对话信息:\"\"\"\n",
    "            response = await chimpanzeestf(re_or_in,hist_ask) #继续提问\n",
    "            data_recoder.append(response)\n",
    "        else:\n",
    "            response = await get_end(distribution, hist, hl_keywords, symptoms)\n",
    "            response = response.replace('医生：','').replace('患者：','')\n",
    "            data_recoder.append(response)\n",
    "\n",
    "        # 追加写入文件\n",
    "        with open('extend_answer_1.csv', 'a', newline='', encoding='utf-8') as f:\n",
    "            writer = csv.writer(f)\n",
    "            writer.writerow(data_recoder)\n",
    "        print(i_index)"
   ]
  },
  {
   "cell_type": "code",
   "execution_count": null,
   "id": "62d051be-1e75-44a9-a498-1e576adc1878",
   "metadata": {},
   "outputs": [],
   "source": []
  },
  {
   "cell_type": "code",
   "execution_count": null,
   "id": "41c0156e-758a-4fcb-a2c3-7efa8daf443b",
   "metadata": {},
   "outputs": [],
   "source": []
  },
  {
   "cell_type": "code",
   "execution_count": null,
   "id": "87b31bb7-6341-4c45-b527-508f2ee3a7fc",
   "metadata": {},
   "outputs": [],
   "source": []
  },
  {
   "cell_type": "code",
   "execution_count": null,
   "id": "a5e88a3a-1236-4f06-af1a-f36993e7bdb4",
   "metadata": {},
   "outputs": [],
   "source": []
  },
  {
   "cell_type": "code",
   "execution_count": null,
   "id": "3d0ccd74-5d9e-4290-94f2-579ec0860994",
   "metadata": {},
   "outputs": [],
   "source": []
  },
  {
   "cell_type": "code",
   "execution_count": null,
   "id": "56705bed-2d77-45a0-a872-31cf50bc67cd",
   "metadata": {},
   "outputs": [],
   "source": []
  },
  {
   "cell_type": "code",
   "execution_count": null,
   "id": "80c75ad5-5898-4165-b312-3199d295bd74",
   "metadata": {},
   "outputs": [],
   "source": []
  },
  {
   "cell_type": "code",
   "execution_count": null,
   "id": "b9f433c6-2458-46e6-89f6-6d01d0e628d9",
   "metadata": {},
   "outputs": [],
   "source": []
  },
  {
   "cell_type": "code",
   "execution_count": null,
   "id": "32de6a55-195f-4acb-bc9c-ac2dc95c2a24",
   "metadata": {},
   "outputs": [],
   "source": []
  },
  {
   "cell_type": "code",
   "execution_count": null,
   "id": "aaa81225-bad5-4710-ba73-82cbf8e2b4e7",
   "metadata": {},
   "outputs": [],
   "source": []
  },
  {
   "cell_type": "code",
   "execution_count": null,
   "id": "2107dad2-b037-4531-aaf9-d80ffe9dbdb8",
   "metadata": {},
   "outputs": [],
   "source": []
  },
  {
   "cell_type": "code",
   "execution_count": null,
   "id": "a4c598c8-d61b-41e3-b764-f9b95231fbce",
   "metadata": {},
   "outputs": [],
   "source": []
  },
  {
   "cell_type": "code",
   "execution_count": null,
   "id": "3e01b245-b9fd-4225-92b1-4b56004f0fba",
   "metadata": {},
   "outputs": [],
   "source": []
  },
  {
   "cell_type": "code",
   "execution_count": null,
   "id": "cc87917f-1d7e-4eb2-abad-c15a0e3e81c5",
   "metadata": {},
   "outputs": [],
   "source": []
  },
  {
   "cell_type": "markdown",
   "id": "65f4c00e-834a-43d2-9c68-1ab833eeea86",
   "metadata": {},
   "source": [
    "### 访问接口"
   ]
  },
  {
   "cell_type": "code",
   "execution_count": 35,
   "id": "a3ffc981-ad7d-412e-a3af-0266baa9b0a3",
   "metadata": {
    "tags": []
   },
   "outputs": [],
   "source": [
    "alll = \"\"\"\n",
    "用户: 我感觉胸口很疼，而且做了检查发现纵隔增宽，还查出来有纵隔囊肿。这种疼痛真的很难忍受。\n",
    "医生: 有没有咳嗽的症状？\n",
    "用户: 有，我有咳嗽的症状。\n",
    "医生: 感觉自己咳嗽时气管有没有受压或者纵隔有没有移位？\n",
    "用户: 咳嗽时感觉气管受压，也觉得纵隔有些移位。\n",
    "医生: 你有没有感觉到咳嗽时有什么牵拉感？\n",
    "用户: 咳嗽时感觉有些牵拉的感觉。\n",
    "医生：了解您的症状了。除了这些，您有没有注意到其他的变化，比如呼吸困难或者发热？\n",
    "用户：医生，我确实感觉呼吸越来越困难了，特别是平躺的时候，感觉胸口像被什么东西压着一样，必须把枕头垫得很高才能稍微好受些。最近几天还出现了低烧，体温一直在37.5度左右徘徊，而且整个人感觉特别疲惫。咳嗽时的牵拉感和胸痛也越来越明显，有时候甚至会突然一阵剧痛让我不得不停下所有动作。\n",
    "医生：了解了您的症状，您在日常生活中有没有吸烟的习惯？吸烟可能会加重您的症状。\n",
    "用户：医生，我平时并没有吸烟的习惯，生活里也很少接触到二手烟环境。但这次生病真的让我备受折磨，胸口疼痛、咳嗽时气管受压、纵隔移位还有牵拉感已经够难受了，现在又加上呼吸困难，平躺时胸口像压了块大石头，只能垫高枕头才能勉强喘口气，还有这持续的低烧和浑身疲惫，让我连日常活动都变得困难重重。\n",
    "\"\"\""
   ]
  },
  {
   "cell_type": "code",
   "execution_count": 36,
   "id": "78d49197-b7f7-4008-a911-c2691657efca",
   "metadata": {
    "tags": []
   },
   "outputs": [
    {
     "name": "stdout",
     "output_type": "stream",
     "text": [
      "<think>\n",
      "好，我来分析一下用户的情况。用户提到胸口疼痛、纵隔增宽和囊肿，伴有咳嗽、气管受压、纵隔移位和牵拉感。这些症状指向可能的纵隔疾病。\n",
      "\n",
      "首先，用户有低烧和疲惫，这提示可能存在感染或炎症反应。纵隔脓肿通常由细菌感染引起，伴随发热、疼痛加重，符合部分症状。但用户没有提到明显的波动性疼痛，所以可能性中等。\n",
      "\n",
      "纵隔综合症可能涉及多种病因，如肿瘤、感染或其他结构异常。结合纵隔增宽和囊肿，需要考虑肿瘤的可能性。纵隔肿瘤可能导致压迫症状，如呼吸困难和平躺时的压迫感，符合用户的描述。此外，低烧可能与肿瘤相关感染有关。\n",
      "\n",
      "炎症或感染也是可能的原因，尤其是如果囊肿并发了感染，可能会导致发热、疼痛和疲惫。但用户没有提到明显的局部红肿或其他感染迹象，因此需要进一步检查确认。\n",
      "\n",
      "综合来看，纵隔肿瘤的可能性较高，但也不能排除脓肿或炎症的可能。建议用户到胸外科就诊，进行详细的影像学检查如CT或MRI，并考虑穿刺活检以明确诊断。\n",
      "</think>\n",
      "\n",
      "根据您的症状描述和提供的可能性疾病列表，结合知识库中的信息，我为您整理了以下诊断意见：\n",
      "\n",
      "### 可能性分析\n",
      "1. **纵隔综合症**：  \n",
      "   您的症状包括胸口疼痛、纵隔移位、呼吸困难等，这些都可能与纵隔综合症相关。该病症通常由纵隔内的结构异常或功能障碍引起。\n",
      "\n",
      "2. **纵隔脓肿**：  \n",
      "   考虑到您有低烧和疲惫的症状，这可能是感染的表现，而纵隔脓肿是一种严重的感染性疾病，可能会导致类似的症状。\n",
      "\n",
      "3. **炎症** 或 **感染**：  \n",
      "   您的低烧、咳嗽以及胸痛可能与纵隔内的炎症或感染有关。这种情况需要进一步检查以明确病因。\n",
      "\n",
      "4. **纵隔肿瘤**：  \n",
      "   纵隔增宽和囊肿可能是肿瘤的表现，尤其是如果伴随呼吸困难和平躺时的压迫感，这更倾向于肿瘤的可能性。\n",
      "\n",
      "### 饮食建议\n",
      "- **宜吃食物**：  \n",
      "  建议选择清淡、易消化的食物，如新鲜蔬菜（菠菜、胡萝卜）、水果（苹果、香蕉），以及高蛋白低脂肪的食物（如鱼肉、鸡肉）。这些食物有助于增强免疫力并提供必要的营养支持。\n",
      "\n",
      "- **忌吃食物**：  \n",
      "  避免辛辣、油腻和高盐分的食物，这些可能会加重您的症状。同时，减少烟酒摄入，以减轻气管受压感。\n",
      "\n",
      "### 生活习惯建议\n",
      "1. **避免吸烟及二手烟环境**：  \n",
      "   您提到没有吸烟习惯，但尽量避免接触二手烟，以免加重呼吸道症状。\n",
      "2. **保持适当体位**：  \n",
      "   平躺时感到压迫感，建议使用高枕头以缓解呼吸困难。同时，避免长时间保持一个姿势，定时变换体位有助于减轻胸痛和气管受压感。\n",
      "3. **适度活动**：  \n",
      "   在医生指导下进行适度的活动，如散步等轻度运动，有助于改善呼吸功能，但需避免剧烈运动以免加重症状。\n",
      "\n",
      "### 就诊指引\n",
      "建议您尽快到 **胸外科或心胸科** 就诊，并进行全面检查以明确病因。可能需要进行的检查包括：\n",
      "- **影像学检查**： 如CT、MRI等，用于观察纵隔结构和囊肿的具体情况。\n",
      "- **实验室检查**： 包括血常规、C反应蛋白等，帮助判断是否存在感染或炎症。\n",
      "\n",
      "### 知识库验证\n",
      "以下是知识库中与上述建议相关的内容：\n",
      "1. **纵隔综合症** 饮食建议：避免高盐、高脂肪食物，建议摄入富含维生素和矿物质的食物。\n",
      "2. **纵隔脓肿** 就诊指引：建议到普外科或胸外科就诊。\n",
      "3. **炎症** 药物建议：根据类型使用抗炎药物或抗生素治疗。\n",
      "4. **感染** 饮食建议：保持清淡饮食，多摄入富含维生素C的食物。\n",
      "\n",
      "如需进一步诊断，请尽快就医并进行详细检查。希望您早日康复！\n"
     ]
    }
   ],
   "source": [
    "input_text = \"请依据医生患者的对话信息尽量给出一些大致的结果,建议的检查或者健康的生活及饮食习惯。\\n对话信息:\" +alll + \"医生：\"\n",
    "response = await bianque2(content=input_text) #bianque2 得出结论\n",
    "response = response.replace('医生：','').replace('患者：','')\n",
    "# data_recoder.append(response)\n",
    "hist = \"\\n你是一名三甲医院的医生，请根据你和用户之间的对话并结合提供数据库，向用户提供诊断意见，诊断意见包括：可能性的疾病、疾病概述以及宜吃和忌吃食物等生活习惯。\\n医患对话对话如下：\\n\" + alll #医患对话历史（不包含医生的结论）\n",
    "result_hist = hist+ \"医生：\" + response\n",
    "symptoms,diseases,hl_keywords = await get_ills_sym(hist,result_hist) #症状列表,疾病列表,查询关键词\n",
    "extract_context = await get_illsym(diseases) #根据疾病补充症状信息\n",
    "ifxunhuan,distribution,analysis = await evalu(symptoms, diseases, extract_context) #判断置信度是否大于0.5，False为是\n",
    "if ifxunhuan:\n",
    "    hist_ask = alll + \"医生：\"\n",
    "    re_or_in = f\"\"\"假设你是一名经验丰富的智能家庭助手，你的目标是根据患者和医生的对话信息，通过一系列有目的的提问来收集必要的信息，包括但不限于了解患者的症状、病史、生活方式和其他相关因素。不需要给出任何的意见，只需要进行提问，且每次仅可以提出1-2个问题，不可以提问重复的问题。下面为患者和医生的对话信息，请继续发起提问。\\n\\n对话信息:\"\"\"\n",
    "    response = await chimpanzeestf(re_or_in,hist_ask) #继续提问\n",
    "    print(response)\n",
    "else:\n",
    "    response = await get_end(distribution, hist, hl_keywords, symptoms)\n",
    "    response = response.replace('医生：','').replace('患者：','')\n",
    "    print(response)"
   ]
  },
  {
   "cell_type": "code",
   "execution_count": null,
   "id": "2ac070b8-eb84-4228-b6bc-548510baa4c3",
   "metadata": {},
   "outputs": [],
   "source": []
  },
  {
   "cell_type": "code",
   "execution_count": null,
   "id": "42ca0fa5-8207-498a-8eed-33c1fd81552b",
   "metadata": {},
   "outputs": [],
   "source": []
  },
  {
   "cell_type": "code",
   "execution_count": null,
   "id": "cfdf8c4d-47fb-463d-80ca-563476b6aaa4",
   "metadata": {},
   "outputs": [],
   "source": []
  },
  {
   "cell_type": "code",
   "execution_count": null,
   "id": "908c3384-a244-4192-a280-16d9c00c0238",
   "metadata": {},
   "outputs": [],
   "source": []
  },
  {
   "cell_type": "code",
   "execution_count": null,
   "id": "6e2193a9-2653-4ce8-ad8d-664ec59a8579",
   "metadata": {},
   "outputs": [],
   "source": []
  },
  {
   "cell_type": "code",
   "execution_count": null,
   "id": "17677a77-6fda-4842-b662-2e76452bacfb",
   "metadata": {},
   "outputs": [],
   "source": []
  },
  {
   "cell_type": "code",
   "execution_count": 34,
   "id": "15b275cb-149a-4bf9-ae97-1961f6bb6efd",
   "metadata": {
    "scrolled": true,
    "tags": []
   },
   "outputs": [
    {
     "name": "stdout",
     "output_type": "stream",
     "text": [
      "<think>\n",
      "嗯，这位用户最近感觉右侧腹部疼痛，还伴随恶心、呕吐和发烧。从对话历史来看，他描述了右下腹剧烈疼痛，按压会加重，还有肿块可随呼吸移动。这些症状让我首先想到的是急性阑尾炎的可能性较大。\n",
      "\n",
      "急性阑尾炎通常表现为右下腹痛，可能伴有发热、恶心和呕吐。用户提到的肿块位置在肚脐右下方，这与阑尾的位置相符。此外，他没有慢性疾病史，但最近工作压力大，过度劳累，这可能是诱因之一。\n",
      "\n",
      "不过，肠梗阻也不能完全排除。肠梗阻的症状包括腹痛、胀气、排便不畅等，用户提到肚子胀、放屁少和排便不顺畅，这些都符合肠梗阻的表现。尤其是他还有口干和低烧，可能是因为脱水或感染引起的。\n",
      "\n",
      "现在需要进一步的检查来确定病因。腹部超声可以帮助查看阑尾是否有炎症或是否存在肿块，而CT扫描则能更详细地观察肠道情况，排除肠梗阻的可能性。\n",
      "\n",
      "治疗方面，如果是急性阑尾炎，通常建议手术切除阑尾，并配合抗生素控制感染。饮食上初期禁食，恢复后吃清淡易消化的食物。如果是肠梗阻，则可能需要调整饮食结构，避免高纤维食物，并根据严重程度决定是否需要手术治疗。\n",
      "\n",
      "总的来说，用户的情况紧急，应该尽快就医进行详细检查和针对性治疗。\n",
      "</think>\n",
      "\n",
      "### 可能性分析\n",
      "\n",
      "根据您描述的症状（右侧腹部疼痛、恶心呕吐、发烧、腹部肿块等），结合您的病史和当前症状，我们初步考虑以下两种可能性：\n",
      "\n",
      "1. **急性阑尾炎**：\n",
      "   - 这种疾病通常表现为右下腹痛，并可能伴有发热、恶心和呕吐。在某些情况下，患者可能会感觉到一个可触及的肿块或硬块。\n",
      "   - 您的症状（如右下腹疼痛、低烧、肿块等）与急性阑尾炎的表现非常吻合。\n",
      "\n",
      "2. **肠梗阻**：\n",
      "   - 肠梗阻也可能导致类似的症状，包括腹部疼痛、恶心呕吐和发烧。但通常伴随更明显的排便障碍和腹部膨胀。\n",
      "   - 您的症状中提到的右侧腹痛和肿块可能与肠梗阻有关，特别是在某些情况下（如粘连性肠梗阻），患者可能会感觉到腹部有异常包块。\n",
      "\n",
      "### 建议\n",
      "\n",
      "1. **就诊建议**：\n",
      "   - 无论哪种可能性，您的症状都提示需要紧急就医。请立即前往医院进行进一步检查。\n",
      "   - 医生可能会安排腹部超声、CT扫描等影像学检查以明确诊断。\n",
      "   - 如果确诊为急性阑尾炎，通常会推荐手术治疗（阑尾切除术）。\n",
      "\n",
      "2. **饮食建议**：\n",
      "   - 在就医前，请避免进食固体食物。如果您感到口渴，可以尝试少量饮用温水。\n",
      "   - 请避免摄入任何可能加重症状的食物，如油腻、辛辣或高纤维食物。\n",
      "\n",
      "3. **生活方式调整**：\n",
      "   - 尽量保持平躺休息，避免剧烈活动，以减轻腹部不适。\n",
      "   - 如果有发烧，请注意监测体温变化，并及时就医。\n",
      "\n",
      "### 参考资料\n",
      "\n",
      "1. 急性阑尾炎的诊断与治疗指南\n",
      "2. 肠梗阻的临床表现及处理原则\n",
      "\n",
      "### 知识库补充\n",
      "\n",
      "以下是知识库中相关的内容，供您参考：\n",
      "\n",
      "#### 急性阑尾炎\n",
      "- **饮食建议**：在急性期，患者应禁食并静脉补液。症状缓解后，逐渐过渡到清淡易消化的食物（如稀饭、面条等），避免油腻和刺激性食物。\n",
      "- **就诊指引**：急性阑尾炎通常需要紧急手术治疗（阑尾切除术）。患者应尽快就医，接受腹部超声或CT检查以确认诊断，并根据医生建议进行手术准备和术后护理。\n",
      "\n",
      "#### 肠梗阻\n",
      "- **饮食建议**：患者应遵循低渣饮食，避免高纤维食物和容易导致腹胀的食物（如豆类、洋葱等）。在肠梗阻缓解后，逐步恢复饮食，从流质开始，逐渐过渡到半流质和软食。\n",
      "- **就诊指引**：肠梗阻是一种紧急情况，患者应立即前往医院就诊，接受必要的检查和治疗。医生可能会建议进行腹部X光、CT扫描或超声波检查以确认诊断，并根据病情严重程度决定是否需要手术。\n",
      "\n",
      "请务必尽快就医，以便获得准确的诊断和及时的治疗。\n"
     ]
    }
   ],
   "source": [
    "input_text = \"请依据医生患者的对话信息尽量给出一些大致的结果,建议的检查或者健康的生活及饮食习惯。\\n对话信息:\" +alll + \"医生：\"\n",
    "response = await bianque2(content=input_text) #bianque2 得出结论\n",
    "response = response.replace('医生：','').replace('患者：','')\n",
    "# data_recoder.append(response)\n",
    "hist = \"\\n你是一名三甲医院的医生，请根据你和用户之间的对话并结合提供数据库，向用户提供诊断意见，诊断意见包括：可能性的疾病、疾病概述以及宜吃和忌吃食物等生活习惯。\\n医患对话对话如下：\\n\" + alll #医患对话历史（不包含医生的结论）\n",
    "result_hist = hist+ \"医生：\" + response\n",
    "symptoms,diseases,hl_keywords = await get_ills_sym(hist,result_hist) #症状列表,疾病列表,查询关键词\n",
    "extract_context = await get_illsym(diseases) #根据疾病补充症状信息\n",
    "ifxunhuan,distribution,analysis = await evalu(symptoms, diseases, extract_context) #判断置信度是否大于0.5，False为是\n",
    "# if ifxunhuan:\n",
    "#     hist_ask = alll + \"医生：\"\n",
    "#     re_or_in = f\"\"\"假设你是一名经验丰富的智能家庭助手，你的目标是根据患者和医生的对话信息，通过一系列有目的的提问来收集必要的信息，包括但不限于了解患者的症状、病史、生活方式和其他相关因素。不需要给出任何的意见，只需要进行提问，且每次仅可以提出1-2个问题，不可以提问重复的问题。下面为患者和医生的对话信息，请继续发起提问。\\n\\n对话信息:\"\"\"\n",
    "#     response = await chimpanzeestf(re_or_in,hist_ask) #继续提问\n",
    "#     print(response)\n",
    "# else:\n",
    "response = await get_end(distribution, hist, hl_keywords, symptoms)\n",
    "response = response.replace('医生：','').replace('患者：','')\n",
    "print(response)"
   ]
  },
  {
   "cell_type": "code",
   "execution_count": null,
   "id": "30b8f62f-a8cc-4ace-9637-6c5f3c7362dd",
   "metadata": {},
   "outputs": [],
   "source": []
  },
  {
   "cell_type": "code",
   "execution_count": null,
   "id": "27e52e8b-a0cc-4c29-aebc-1546aa62225b",
   "metadata": {},
   "outputs": [],
   "source": []
  },
  {
   "cell_type": "code",
   "execution_count": null,
   "id": "b9201364-a8af-45cd-8047-2de333d74fae",
   "metadata": {},
   "outputs": [],
   "source": []
  },
  {
   "cell_type": "code",
   "execution_count": null,
   "id": "c746e73a-1a0b-4f8a-a0b6-dc7f8bcb2047",
   "metadata": {},
   "outputs": [],
   "source": []
  },
  {
   "cell_type": "code",
   "execution_count": null,
   "id": "84672391-6cf9-4023-9f0c-a6a6b5b4c4b6",
   "metadata": {},
   "outputs": [],
   "source": []
  },
  {
   "cell_type": "code",
   "execution_count": null,
   "id": "38374974-5104-4e38-9413-5198f022b6d9",
   "metadata": {},
   "outputs": [],
   "source": []
  },
  {
   "cell_type": "code",
   "execution_count": null,
   "id": "6693d015-f083-470b-a130-46021142bc3d",
   "metadata": {},
   "outputs": [],
   "source": []
  },
  {
   "cell_type": "code",
   "execution_count": null,
   "id": "a1203756-6b99-4859-bb29-4edf3eaf8506",
   "metadata": {},
   "outputs": [],
   "source": []
  },
  {
   "cell_type": "code",
   "execution_count": null,
   "id": "f6a4c110-a5ff-4c3e-9a02-14a2f0a43b69",
   "metadata": {},
   "outputs": [],
   "source": []
  },
  {
   "cell_type": "code",
   "execution_count": null,
   "id": "3fd90c2f-6301-4fa3-b2c5-300c22a267ef",
   "metadata": {},
   "outputs": [],
   "source": []
  },
  {
   "cell_type": "code",
   "execution_count": null,
   "id": "54c3bad2-aff0-4aad-92ea-567f6d91dab6",
   "metadata": {},
   "outputs": [],
   "source": []
  },
  {
   "cell_type": "code",
   "execution_count": null,
   "id": "dc97dc46-146b-462d-88e1-de33eca62e7b",
   "metadata": {},
   "outputs": [],
   "source": []
  },
  {
   "cell_type": "code",
   "execution_count": null,
   "id": "11f17442-5d7c-4776-b0b3-89fd5e964e24",
   "metadata": {},
   "outputs": [],
   "source": []
  },
  {
   "cell_type": "code",
   "execution_count": null,
   "id": "1de84dd1-36e5-418e-938c-07c7b1c74b96",
   "metadata": {},
   "outputs": [],
   "source": []
  }
 ],
 "metadata": {
  "kernelspec": {
   "display_name": "kg",
   "language": "python",
   "name": "kg"
  },
  "language_info": {
   "codemirror_mode": {
    "name": "ipython",
    "version": 3
   },
   "file_extension": ".py",
   "mimetype": "text/x-python",
   "name": "python",
   "nbconvert_exporter": "python",
   "pygments_lexer": "ipython3",
   "version": "3.10.15"
  }
 },
 "nbformat": 4,
 "nbformat_minor": 5
}
